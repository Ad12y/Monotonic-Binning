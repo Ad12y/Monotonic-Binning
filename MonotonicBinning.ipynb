{
 "cells": [
  {
   "cell_type": "code",
   "execution_count": 3,
   "id": "9bf18528",
   "metadata": {},
   "outputs": [],
   "source": [
    "import pandas as pd\n",
    "import numpy as np \n",
    "from scipy.stats import norm"
   ]
  },
  {
   "cell_type": "code",
   "execution_count": 4,
   "id": "41e7d3f6",
   "metadata": {},
   "outputs": [],
   "source": [
    "df = pd.read_csv('C:/Users/adity/OneDrive/Documents/Monotonic Binning/train.csv')"
   ]
  },
  {
   "cell_type": "code",
   "execution_count": 5,
   "id": "3852dad9",
   "metadata": {},
   "outputs": [
    {
     "data": {
      "text/plain": [
       "(219129, 32)"
      ]
     },
     "execution_count": 5,
     "metadata": {},
     "output_type": "execute_result"
    }
   ],
   "source": [
    "df.shape"
   ]
  },
  {
   "cell_type": "code",
   "execution_count": 17,
   "id": "f4352b97",
   "metadata": {},
   "outputs": [
    {
     "data": {
      "text/plain": [
       "Index(['id', 'Time', 'V1', 'V2', 'V3', 'V4', 'V5', 'V6', 'V7', 'V8', 'V9',\n",
       "       'V10', 'V11', 'V12', 'V13', 'V14', 'V15', 'V16', 'V17', 'V18', 'V19',\n",
       "       'V20', 'V21', 'V22', 'V23', 'V24', 'V25', 'V26', 'V27', 'V28', 'Amount',\n",
       "       'Class'],\n",
       "      dtype='object')"
      ]
     },
     "execution_count": 17,
     "metadata": {},
     "output_type": "execute_result"
    }
   ],
   "source": [
    "df.columns"
   ]
  },
  {
   "cell_type": "code",
   "execution_count": 18,
   "id": "05628b16",
   "metadata": {},
   "outputs": [],
   "source": [
    "# WOE & IV\n",
    "def woe_iv(df,col, bins):\n",
    "    bins_x = pd.qcut(df[col], bins, duplicates='drop', retbins=True)\n",
    "    binned_df_x = pd.DataFrame(bins_x[0])\n",
    "    binned_df_x['Class'] = df['Class']\n",
    "    group_df_x = binned_df_x.groupby(col).aggregate(['sum','count']).reset_index()\n",
    "    group_df_x.columns = ['bins', 'events', 'total']\n",
    "    group_df_x['non events'] = group_df_x['total'] - group_df_x['events']\n",
    "    good_sum = group_df_x['non events'].sum()\n",
    "    bad_sum = group_df_x['events'].sum()\n",
    "    group_df_x['% of events'] = group_df_x['events']/bad_sum\n",
    "    group_df_x['% of non events'] = group_df_x['non events']/good_sum\n",
    "    group_df_x['WoE'] = np.log(group_df_x['% of non events']/group_df_x['% of events'])\n",
    "    group_df_x['IV'] = group_df_x['WoE'] * (group_df_x['% of non events']-group_df_x['% of events'])\n",
    "    iv_val = group_df_x['IV'].sum()\n",
    "    return group_df_x, iv_val"
   ]
  },
  {
   "cell_type": "code",
   "execution_count": 19,
   "id": "fb8a08f4",
   "metadata": {},
   "outputs": [],
   "source": [
    "df_temp = df[['V19','Class']]\n",
    "df_temp = df_temp.sort_values(by=['V19'])\n",
    "df_temp['m'] = df_temp['Class']\n",
    "\n",
    "feature = df_temp['V19'].to_list()\n",
    "mean = df_temp['m'].to_list()\n",
    "Class = df_temp['Class'].to_list()\n",
    "p_val_thresh = 0.30 #how similar the bins can be\n",
    "min_bin_size = 8\n",
    "ind_var_rate = 0.4"
   ]
  },
  {
   "cell_type": "code",
   "execution_count": 20,
   "id": "36913df0",
   "metadata": {},
   "outputs": [],
   "source": [
    "stack = []\n",
    "for i in range(0,len(feature)):\n",
    "    if len(stack)==0 or stack[-1][-1] <= mean[i]:\n",
    "        stack.append([i,i,mean[i]])\n",
    "    elif stack[-1][-1] > mean[i]:\n",
    "        temp = stack.pop()\n",
    "        l, r = temp[0], temp[1]\n",
    "        if l==r:\n",
    "            new_m = ((temp[-1] + mean[i]) / 2) \n",
    "        else:   \n",
    "            new_m = ((r-l+1)*(temp[-1]) + mean[i]) / (r-l+1 + 1)\n",
    "        stack.append([l, i, new_m])\n",
    "        merge, j = True, len(stack)-2\n",
    "        while merge:\n",
    "            if len(stack) == 1 or j == len(stack)-1:\n",
    "                merge = False\n",
    "            elif stack[j][-1] <= stack[j+1][-1]:\n",
    "                j += 1 \n",
    "            elif stack[j][-1] > stack[j+1][-1]:\n",
    "                temp_2 = stack.pop()\n",
    "                l_2, r_2 = temp_2[0],temp_2[1]\n",
    "                temp_1 = stack.pop()\n",
    "                l_1, r_1 = temp_1[0], temp_1[1]\n",
    "                if l_1 == r_1 and l_2 == r_2:\n",
    "                    new_m_1 = (temp_1[-1] + temp_2[-1])/2\n",
    "                elif l_1 == r_1:\n",
    "                    new_m_1 = (temp_1[-1] + (r_2-l_2+1)*temp_2[-1]) / (1 + r_2-l_2+1)\n",
    "                elif l_2 == r_2:\n",
    "                    new_m_1 = ((r_1-l_1)*temp_1[-1] + temp_2[-1]) / (1 + r_1-l_1)\n",
    "                else: \n",
    "                    new_m_1 = ((r_1-l_1)*temp_1[-1] + (r_2-l_2)*temp_2[-1]) / (r_1-l_1 + r_2-l_2)\n",
    "                stack.append([l_1,r_2,new_m_1])\n",
    "                j -= 1 "
   ]
  },
  {
   "cell_type": "code",
   "execution_count": 21,
   "id": "ddf1e3bf",
   "metadata": {},
   "outputs": [
    {
     "ename": "SyntaxError",
     "evalue": "incomplete input (540307863.py, line 27)",
     "output_type": "error",
     "traceback": [
      "\u001b[1;36m  Cell \u001b[1;32mIn[21], line 27\u001b[1;36m\u001b[0m\n\u001b[1;33m    \u001b[0m\n\u001b[1;37m    ^\u001b[0m\n\u001b[1;31mSyntaxError\u001b[0m\u001b[1;31m:\u001b[0m incomplete input\n"
     ]
    }
   ],
   "source": [
    "def p_value_cal(bin1, bin2, Class):\n",
    "    m_1,m_2 = bin1[2], bin2[2]\n",
    "    bin_1_data = Class[bin1[0]:bin1[1]+1]\n",
    "    bin_2_data = Class[bin2[0]:bin2[1]+1]\n",
    "    n_1 = len(bin_1_data)\n",
    "    n_2 = len(bin_2_data)\n",
    "    v_1 = np.mean([(x - m_1) ** 2 for x in bin_1_data])\n",
    "    v_2 = np.mean([(x - m_2) ** 2 for x in bin_2_data])\n",
    "    v_p = ((n_1 - 1)*v_1 + (n_2 - 1)*v_2)/(n_1 + n_2 - 2)\n",
    "    Z = (m_1 - m_2) / np.sqrt(v_p * (1 / n_1 + 1 / n_2))\n",
    "    p_value = 1 - norm.cdf(Z)\n",
    "    return p_value\n",
    "\n",
    "p_value_table = []\n",
    "for i in range(1, len(stack)):\n",
    "    if stack[i-1][0] != stack[i-1][1] and stack[i][0] != stack[i][1]:\n",
    "        p_value = p_value_cal(stack[i-1], stack[i], Class)\n",
    "    else:\n",
    "        p_value = 2\n",
    "        \n",
    "    if stack[i-1][1] - stack[i-1][0] + 1 < min_bin_size or stack[i-1][2] < ind_var_rate or stack[i][1] - stack[i][0] + 1 < min_bin_size or stack[i][2] < ind_var_rate:\n",
    "        p_value = p_value + 1\n",
    "        \n",
    "    p_value_table.append([p_value,stack[i-1]])\n",
    "    \n",
    "    if len(p_values_table) > 0:\n",
    "        "
   ]
  },
  {
   "cell_type": "code",
   "execution_count": null,
   "id": "3a06ee55",
   "metadata": {},
   "outputs": [],
   "source": []
  }
 ],
 "metadata": {
  "kernelspec": {
   "display_name": "Python 3 (ipykernel)",
   "language": "python",
   "name": "python3"
  },
  "language_info": {
   "codemirror_mode": {
    "name": "ipython",
    "version": 3
   },
   "file_extension": ".py",
   "mimetype": "text/x-python",
   "name": "python",
   "nbconvert_exporter": "python",
   "pygments_lexer": "ipython3",
   "version": "3.11.5"
  }
 },
 "nbformat": 4,
 "nbformat_minor": 5
}
